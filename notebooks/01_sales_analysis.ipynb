{
 "cells": [
  {
   "cell_type": "markdown",
   "id": "0fdda59b",
   "metadata": {},
   "source": [
    "# Exploratory Data Analysis (EDA) - Lufemage Data Lab\n",
    "\n",
    "**Objective:** Perform an initial exploration of the sales dataset to understand its structure, identify preliminary patterns, and detect potential data quality issues.\n",
    "\n",
    "**Steps:**\n",
    "1. Data loading.\n",
    "2. General review (structure, data types).\n",
    "3. Basic cleaning and preprocessing.\n",
    "4. Descriptive statistical analysis.\n",
    "5. Initial grouping and segmentation.\n"
   ]
  },
  {
   "cell_type": "code",
   "execution_count": 32,
   "id": "a4af94ed",
   "metadata": {},
   "outputs": [
    {
     "name": "stdout",
     "output_type": "stream",
     "text": [
      "Dataframe has been uploaded successfully.\n"
     ]
    }
   ],
   "source": [
    "# Import esentials libraries\n",
    "import pandas as pd\n",
    "import numpy as np\n",
    "\n",
    "# Define the path to the data file\n",
    "DATA_PATH = \"../data/raw_sales_data.csv\"\n",
    "\n",
    "# Upload the dataset\n",
    "df = pd.read_csv(DATA_PATH)\n",
    "\n",
    "# Check if the dataframe is not empty\n",
    "if not bool(df.empty):\n",
    "    print(\"Dataframe has been uploaded successfully.\")\n",
    "else:\n",
    "    print(\"Failed to upload the dataframe.\")\n"
   ]
  },
  {
   "cell_type": "markdown",
   "id": "f544f232",
   "metadata": {},
   "source": [
    "## 1. General Dataset Review\n",
    "\n",
    "We will use the `.info()`, `.shape`, and `.describe()` commands to obtain a comprehensive overview of our data.  \n",
    "These functions provide key insights into the dataset’s structure, including column types, the number of records\n"
   ]
  },
  {
   "cell_type": "code",
   "execution_count": 33,
   "id": "8f7a85b3",
   "metadata": {},
   "outputs": [
    {
     "name": "stdout",
     "output_type": "stream",
     "text": [
      "The dataset has 5000 rows and 6 columns.\n",
      "\n",
      "DataFrame information:\n",
      "<class 'pandas.core.frame.DataFrame'>\n",
      "RangeIndex: 5000 entries, 0 to 4999\n",
      "Data columns (total 6 columns):\n",
      " #   Column              Non-Null Count  Dtype  \n",
      "---  ------              --------------  -----  \n",
      " 0   id_cliente          5000 non-null   object \n",
      " 1   fecha_compra        5000 non-null   object \n",
      " 2   monto               5000 non-null   float64\n",
      " 3   categoria_producto  5000 non-null   object \n",
      " 4   ciudad              5000 non-null   object \n",
      " 5   metodo_pago         5000 non-null   object \n",
      "dtypes: float64(1), object(5)\n",
      "memory usage: 234.5+ KB\n"
     ]
    }
   ],
   "source": [
    "# View the shape of the DataFrame (rows, columns)\n",
    "print(f\"The dataset has {df.shape[0]} rows and {df.shape[1]} columns.\")\n",
    "\n",
    "# Get information about data types and null values\n",
    "print(\"\\nDataFrame information:\")\n",
    "df.info()"
   ]
  },
  {
   "cell_type": "markdown",
   "id": "a596aca7",
   "metadata": {},
   "source": [
    "## 2. Data Cleaning and Preprocessing\n",
    "\n",
    "Based on the initial review, the first step in this stage is to correct the data type of the `fecha_compra` column.  \n",
    "Additionally, the dataset will be checked for duplicate or missing values to ensure data consistency and integrity.\n"
   ]
  },
  {
   "cell_type": "code",
   "execution_count": 34,
   "id": "d6dd23b6",
   "metadata": {},
   "outputs": [
    {
     "name": "stdout",
     "output_type": "stream",
     "text": [
      "\n",
      "Null values in each column:\n",
      "id_cliente            0\n",
      "fecha_compra          0\n",
      "monto                 0\n",
      "categoria_producto    0\n",
      "ciudad                0\n",
      "metodo_pago           0\n",
      "dtype: int64\n",
      "\n",
      "Number of duplicate rows: 0\n",
      "\n",
      "Dataframe info after initial checks: \n",
      "<class 'pandas.core.frame.DataFrame'>\n",
      "RangeIndex: 5000 entries, 0 to 4999\n",
      "Data columns (total 6 columns):\n",
      " #   Column              Non-Null Count  Dtype         \n",
      "---  ------              --------------  -----         \n",
      " 0   id_cliente          5000 non-null   object        \n",
      " 1   fecha_compra        5000 non-null   datetime64[ns]\n",
      " 2   monto               5000 non-null   float64       \n",
      " 3   categoria_producto  5000 non-null   object        \n",
      " 4   ciudad              5000 non-null   object        \n",
      " 5   metodo_pago         5000 non-null   object        \n",
      "dtypes: datetime64[ns](1), float64(1), object(4)\n",
      "memory usage: 234.5+ KB\n"
     ]
    }
   ],
   "source": [
    "# Convert 'fecha_compra' column to datetime format\n",
    "df[\"fecha_compra\"] = pd.to_datetime(df[\"fecha_compra\"])\n",
    "\n",
    "# Check for null values in each column\n",
    "print(f\"\\nNull values in each column:\\n{df.isnull().sum()}\")\n",
    "\n",
    "# Check for duplicate rows\n",
    "print(f\"\\nNumber of duplicate rows: {df.duplicated().sum()}\")\n",
    "\n",
    "# Back to initial info after checks\n",
    "print(\"\\nDataframe info after initial checks: \")\n",
    "df.info()"
   ]
  },
  {
   "cell_type": "markdown",
   "id": "4f667787",
   "metadata": {},
   "source": [
    "## 3. Statistical Analysis with NumPy and Pandas\n",
    "\n",
    "With the dataset cleaned and properly formatted, basic statistical measures will be calculated for the `monto` column.  \n",
    "This step provides an overview of the distribution and variability of sales amounts within the dataset.\n"
   ]
  },
  {
   "cell_type": "code",
   "execution_count": 35,
   "id": "1b44a080",
   "metadata": {},
   "outputs": [
    {
     "name": "stdout",
     "output_type": "stream",
     "text": [
      "Descriptive statistics with pandas: \n",
      "count    5000.000000\n",
      "mean      298.729818\n",
      "std       209.944712\n",
      "min         2.250000\n",
      "25%       145.165000\n",
      "50%       251.610000\n",
      "75%       402.035000\n",
      "max      1581.700000\n",
      "Name: monto, dtype: float64\n",
      "\n",
      "--- Statistics with NumPy ---\n",
      "Average sale: $298.73\n",
      "Median sale: $251.61\n",
      "Standard deviation: $209.92\n",
      "Maximum sale: $1581.70\n",
      "Minimum sale: $2.25\n"
     ]
    }
   ],
   "source": [
    "# Display descriptive statistics for the 'monto' column\n",
    "print(\"Descriptive statistics with pandas: \")\n",
    "print(df[\"monto\"].describe())\n",
    "\n",
    "# Display descriptive statistics using numpy\n",
    "# Extract 'monto' column as a numpy array\n",
    "montos_np = df[\"monto\"].to_numpy()\n",
    "\n",
    "print(\"\\n--- Statistics with NumPy ---\")\n",
    "print(f\"Average sale: ${np.mean(montos_np):.2f}\")\n",
    "print(f\"Median sale: ${np.median(montos_np):.2f}\")\n",
    "print(f\"Standard deviation: ${np.std(montos_np):.2f}\")\n",
    "print(f\"Maximum sale: ${np.max(montos_np):.2f}\")\n",
    "print(f\"Minimum sale: ${np.min(montos_np):.2f}\")\n"
   ]
  },
  {
   "cell_type": "markdown",
   "id": "62864d5a",
   "metadata": {},
   "source": [
    "## 4. Grouping and Segmentation\n",
    "\n",
    "In this section, simple business questions will be addressed by grouping the data:\n",
    "- How much was sold by product category?\n",
    "- How are sales distributed by city?\n",
    "- Which payment method is the most popular?\n"
   ]
  },
  {
   "cell_type": "code",
   "execution_count": 36,
   "id": "03221a04",
   "metadata": {},
   "outputs": [
    {
     "name": "stdout",
     "output_type": "stream",
     "text": [
      "\n",
      "Total sales by product category:\n",
      " categoria_producto\n",
      "Electrónica    359907.01\n",
      "Ropa           303603.92\n",
      "Hogar          300757.72\n",
      "Alimentos      210285.62\n",
      "Libros         165509.24\n",
      "Juguetes       153585.58\n",
      "Name: monto, dtype: float64\n",
      "\n",
      "------------------------------\n",
      "\n",
      "Transactions and average amount by city:\n",
      "               count        mean        sum\n",
      "ciudad                                    \n",
      "Bogotá         2021  306.571024  619580.04\n",
      "Medellín       1218  298.256798  363276.78\n",
      "Cali            765  294.070078  224963.61\n",
      "Cartagena       520  286.887019  149181.25\n",
      "Barranquilla    476  287.074391  136647.41\n",
      "\n",
      "------------------------------\n",
      "\n",
      "Payment method usage:\n",
      " metodo_pago\n",
      "Tarjeta de Crédito    2521\n",
      "PSE                   1226\n",
      "Billetera digital      783\n",
      "Efectivo               470\n",
      "Name: count, dtype: int64\n"
     ]
    }
   ],
   "source": [
    "# Analyze total sales by product category\n",
    "sales_by_category = df.groupby(\"categoria_producto\")[\"monto\"].sum().sort_values(ascending=False)\n",
    "print(\"\\nTotal sales by product category:\\n\", sales_by_category)\n",
    "\n",
    "print(\"\\n\" + \"-\"*30 + \"\\n\")\n",
    "\n",
    "# Numbers of transactions and average amount by city\n",
    "transactions_by_city = df.groupby(\"ciudad\")[\"monto\"].agg([\"count\", \"mean\", \"sum\"]).sort_values(by=\"sum\", ascending=False)\n",
    "print(\"Transactions and average amount by city:\\n\", transactions_by_city)\n",
    "\n",
    "print(\"\\n\" + \"-\"*30 + \"\\n\")\n",
    "\n",
    "# Use of payment methods\n",
    "payment_method_usage = df[\"metodo_pago\"].value_counts()\n",
    "print(\"Payment method usage:\\n\", payment_method_usage)"
   ]
  },
  {
   "cell_type": "markdown",
   "id": "282c3783",
   "metadata": {},
   "source": [
    "## 5. Outlier Detection in 'monto'\n",
    "\n",
    "An outlier is a sale that is unusually high or low compared to the rest of the data.  \n",
    "The Interquartile Range (IQR) method will be used to identify these anomalous values.\n"
   ]
  },
  {
   "cell_type": "code",
   "execution_count": 37,
   "id": "9c75a26a",
   "metadata": {},
   "outputs": [
    {
     "name": "stdout",
     "output_type": "stream",
     "text": [
      "158 outlier sales were detected (very high amounts).\n",
      "Examples of outliers:\n"
     ]
    },
    {
     "data": {
      "text/html": [
       "<div>\n",
       "<style scoped>\n",
       "    .dataframe tbody tr th:only-of-type {\n",
       "        vertical-align: middle;\n",
       "    }\n",
       "\n",
       "    .dataframe tbody tr th {\n",
       "        vertical-align: top;\n",
       "    }\n",
       "\n",
       "    .dataframe thead th {\n",
       "        text-align: right;\n",
       "    }\n",
       "</style>\n",
       "<table border=\"1\" class=\"dataframe\">\n",
       "  <thead>\n",
       "    <tr style=\"text-align: right;\">\n",
       "      <th></th>\n",
       "      <th>id_cliente</th>\n",
       "      <th>fecha_compra</th>\n",
       "      <th>monto</th>\n",
       "      <th>categoria_producto</th>\n",
       "      <th>ciudad</th>\n",
       "      <th>metodo_pago</th>\n",
       "    </tr>\n",
       "  </thead>\n",
       "  <tbody>\n",
       "    <tr>\n",
       "      <th>82</th>\n",
       "      <td>66e4cfa4-597c-400b-92fb-6a91ba068c87</td>\n",
       "      <td>2023-12-24 16:14:49</td>\n",
       "      <td>976.68</td>\n",
       "      <td>Juguetes</td>\n",
       "      <td>Bogotá</td>\n",
       "      <td>Tarjeta de Crédito</td>\n",
       "    </tr>\n",
       "    <tr>\n",
       "      <th>198</th>\n",
       "      <td>16ea0e70-f038-4795-80a3-b8bda21e9004</td>\n",
       "      <td>2024-11-27 03:23:55</td>\n",
       "      <td>1062.73</td>\n",
       "      <td>Juguetes</td>\n",
       "      <td>Bogotá</td>\n",
       "      <td>Tarjeta de Crédito</td>\n",
       "    </tr>\n",
       "    <tr>\n",
       "      <th>208</th>\n",
       "      <td>3e76fabb-a263-4743-a7ae-4a7cf97bc1f1</td>\n",
       "      <td>2024-03-25 23:02:58</td>\n",
       "      <td>919.05</td>\n",
       "      <td>Ropa</td>\n",
       "      <td>Medellín</td>\n",
       "      <td>Tarjeta de Crédito</td>\n",
       "    </tr>\n",
       "    <tr>\n",
       "      <th>284</th>\n",
       "      <td>cb7f83fd-0e00-4ba4-9d8a-9f2ec1e7d8fe</td>\n",
       "      <td>2024-08-10 09:45:15</td>\n",
       "      <td>1451.33</td>\n",
       "      <td>Juguetes</td>\n",
       "      <td>Bogotá</td>\n",
       "      <td>Tarjeta de Crédito</td>\n",
       "    </tr>\n",
       "    <tr>\n",
       "      <th>310</th>\n",
       "      <td>f721f396-4b2c-4662-9978-6411b222c2df</td>\n",
       "      <td>2024-06-30 20:00:59</td>\n",
       "      <td>820.46</td>\n",
       "      <td>Ropa</td>\n",
       "      <td>Cartagena</td>\n",
       "      <td>Tarjeta de Crédito</td>\n",
       "    </tr>\n",
       "  </tbody>\n",
       "</table>\n",
       "</div>"
      ],
      "text/plain": [
       "                               id_cliente        fecha_compra    monto  \\\n",
       "82   66e4cfa4-597c-400b-92fb-6a91ba068c87 2023-12-24 16:14:49   976.68   \n",
       "198  16ea0e70-f038-4795-80a3-b8bda21e9004 2024-11-27 03:23:55  1062.73   \n",
       "208  3e76fabb-a263-4743-a7ae-4a7cf97bc1f1 2024-03-25 23:02:58   919.05   \n",
       "284  cb7f83fd-0e00-4ba4-9d8a-9f2ec1e7d8fe 2024-08-10 09:45:15  1451.33   \n",
       "310  f721f396-4b2c-4662-9978-6411b222c2df 2024-06-30 20:00:59   820.46   \n",
       "\n",
       "    categoria_producto     ciudad         metodo_pago  \n",
       "82            Juguetes     Bogotá  Tarjeta de Crédito  \n",
       "198           Juguetes     Bogotá  Tarjeta de Crédito  \n",
       "208               Ropa   Medellín  Tarjeta de Crédito  \n",
       "284           Juguetes     Bogotá  Tarjeta de Crédito  \n",
       "310               Ropa  Cartagena  Tarjeta de Crédito  "
      ]
     },
     "execution_count": 37,
     "metadata": {},
     "output_type": "execute_result"
    }
   ],
   "source": [
    "Q1 = df[\"monto\"].quantile(0.25)\n",
    "Q3 = df[\"monto\"].quantile(0.75)\n",
    "IQR = Q3 - Q1\n",
    "\n",
    "superior_limit = Q3 + 1.5 * IQR\n",
    "inferior_limit = Q1 - 1.5 * IQR\n",
    "\n",
    "# Filter the DataFrame to show only outliers\n",
    "outliers = df[(df[\"monto\"] > superior_limit) | (df[\"monto\"] < inferior_limit)]\n",
    "\n",
    "print(f\"{len(outliers)} outlier sales were detected (very high amounts).\")\n",
    "print(\"Examples of outliers:\")\n",
    "outliers.head()"
   ]
  },
  {
   "cell_type": "markdown",
   "id": "d271049b",
   "metadata": {},
   "source": [
    "## 6. Identification of Customers and Days with the Highest Purchase Volume\n"
   ]
  },
  {
   "cell_type": "code",
   "execution_count": 38,
   "id": "50775279",
   "metadata": {},
   "outputs": [
    {
     "name": "stdout",
     "output_type": "stream",
     "text": [
      "Top 5 customers by total purchase amount:\n",
      " id_cliente\n",
      "181a76f3-82dc-4ea2-800b-75901817259b    4746.36\n",
      "5ee69e4f-8a1c-4aff-bc5a-d399b6e36665    4132.85\n",
      "8422dfda-6fce-4db1-82f1-d946ba8b7adb    4002.10\n",
      "f8831983-5198-46f0-bee7-9bccca0e9b20    3971.86\n",
      "8b3e86c4-12b8-48ee-8d2f-fb3fa65dd89f    3934.73\n",
      "Name: monto, dtype: float64\n",
      "\n",
      "------------------------------\n",
      "\n",
      "Top 5 days by total sales:\n",
      " fecha\n",
      "2024-04-16    6186.41\n",
      "2025-01-12    5811.80\n",
      "2025-03-04    5026.86\n",
      "2025-08-30    4960.96\n",
      "2025-05-06    4919.58\n",
      "Name: monto, dtype: float64\n"
     ]
    }
   ],
   "source": [
    "# Top 5 customers by total purchase amount\n",
    "top_clients = df.groupby(\"id_cliente\")[\"monto\"].sum().nlargest(5)\n",
    "print(\"Top 5 customers by total purchase amount:\\n\", top_clients)\n",
    "\n",
    "print(\"\\n\" + \"-\"*30 + \"\\n\")\n",
    "\n",
    "# Top 5 days by total sales amount\n",
    "# Create a temporary column with only the date (without time)\n",
    "df[\"fecha\"] = df[\"fecha_compra\"].dt.date\n",
    "top_days = df.groupby(\"fecha\")[\"monto\"].sum().nlargest(5)\n",
    "print(\"Top 5 days by total sales:\\n\", top_days)\n",
    "\n",
    "# Remove the temporary column no longer needed\n",
    "df = df.drop(columns=[\"fecha\"])\n"
   ]
  },
  {
   "cell_type": "markdown",
   "id": "0a89099e",
   "metadata": {},
   "source": [
    "# Generation of Actionable Insights\n",
    "\n",
    "In this phase, the previously obtained data and analyses are transformed into conclusions and business recommendations.  \n",
    "Each question aims to produce an \"insight\" that the strategy team can effectively apply for decision-making.\n"
   ]
  },
  {
   "cell_type": "markdown",
   "id": "c2038f97",
   "metadata": {},
   "source": [
    "### 1. Which products or categories generate the most revenue?\n",
    "\n",
    "**Analysis:** Calculate each category’s contribution to the total revenue.\n"
   ]
  },
  {
   "cell_type": "code",
   "execution_count": 39,
   "id": "dcd21770",
   "metadata": {},
   "outputs": [
    {
     "name": "stdout",
     "output_type": "stream",
     "text": [
      "Sales summary by product category:\n",
      "                     Total Sales  Percentage (%)\n",
      "categoria_producto                             \n",
      "Electrónica           359907.01           24.10\n",
      "Ropa                  303603.92           20.33\n",
      "Hogar                 300757.72           20.14\n",
      "Alimentos             210285.62           14.08\n",
      "Libros                165509.24           11.08\n",
      "Juguetes              153585.58           10.28\n"
     ]
    }
   ],
   "source": [
    "# Reuse the previous grouping to analyze sales by product category\n",
    "sales_by_category = df.groupby(\"categoria_producto\")[\"monto\"].sum().sort_values(ascending=False)\n",
    "\n",
    "# Calculate the total sales to get percentages\n",
    "total_sales = df[\"monto\"].sum()\n",
    "\n",
    "# Create a Dataframe to show a more clear summary\n",
    "df_category_summary = pd.DataFrame({\n",
    "    \"Total Sales\": sales_by_category,\n",
    "    \"Percentage (%)\": ((sales_by_category / total_sales) * 100).round(2)\n",
    "})\n",
    "\n",
    "print(\"Sales summary by product category:\\n\", df_category_summary)\n"
   ]
  },
  {
   "cell_type": "markdown",
   "id": "3656ef74",
   "metadata": {},
   "source": [
    "**Actionable Insight #1:**\n",
    "\n",
    "*   **Finding:** The **'Electronics'** category is the company’s main revenue driver, accounting for approximately **25% of total income**, followed closely by 'Clothing' and 'Home'. 'Books' and 'Toys' are the lowest-performing categories.\n",
    "*   **Strategic Recommendation:** The company should **double down on 'Electronics'**. It is recommended to analyze subcategories within Electronics to identify top-performing products. For low-performing categories, consider whether they require a marketing boost or if inventory optimization is needed.\n"
   ]
  },
  {
   "cell_type": "markdown",
   "id": "a2107ebe",
   "metadata": {},
   "source": [
    "### 2. Which city shows sustained growth?\n",
    "\n",
    "**Analysis:** To evaluate growth, sales over time (month by month) must be analyzed for each city.\n"
   ]
  },
  {
   "cell_type": "code",
   "execution_count": 40,
   "id": "d35cba7a",
   "metadata": {},
   "outputs": [
    {
     "name": "stdout",
     "output_type": "stream",
     "text": [
      "Evolution of monthly sales by city:\n",
      " ciudad   Barranquilla    Bogotá      Cali  Cartagena  Medellín\n",
      "año_mes                                                       \n",
      "2024-11       5906.90  25900.87   9004.77    4609.01  20958.21\n",
      "2024-12       2758.92  25028.80  12733.95    5136.69  17563.50\n",
      "2025-01       5510.99  24643.27   9376.62    5122.33  22234.39\n",
      "2025-02       7921.79  26495.00   9611.63    4670.94  10184.75\n",
      "2025-03       6367.35  27711.12  10229.21    5126.88  14350.69\n",
      "2025-04       5553.64  25402.94   9144.22    4897.50  13932.25\n",
      "2025-05       6125.08  23196.38   8621.84    7133.84  14320.82\n",
      "2025-06       6657.80  25354.55  13948.35    5054.10  15143.00\n",
      "2025-07       6086.59  28665.58   6477.21    7929.98  15529.51\n",
      "2025-08       6208.56  30907.02   8659.22    7256.76  14413.10\n",
      "2025-09       3014.23  26145.67  11980.03    5229.62  17872.86\n",
      "2025-10        573.65   4911.39    536.99     427.07   2809.01\n"
     ]
    }
   ],
   "source": [
    "# Extract year and month from 'fecha_compra' to group by month and analyze monthly sales trend\n",
    "df[\"año_mes\"] = df[\"fecha_compra\"].dt.to_period(\"M\")\n",
    "\n",
    "# Group by year_month and city, then sum the sales amounts to see the evolution of sales by city\n",
    "monthly_sales_by_city = df.groupby([\"año_mes\", \"ciudad\"])[\"monto\"].sum().unstack(fill_value=0)\n",
    "\n",
    "# Show the last 12 months to observe recent trends\n",
    "print(\"Evolution of monthly sales by city:\\n\", monthly_sales_by_city.tail(12))\n"
   ]
  },
  {
   "cell_type": "markdown",
   "id": "24642d89",
   "metadata": {},
   "source": [
    "**Actionable Insight #2:**\n",
    "\n",
    "*   **Finding:** **Bogotá** is not only the largest market consistently but also shows a solid and stable sales base month over month. Medellín is the second strongest market, while the other cities have considerably lower volumes.\n",
    "*   **Strategic Recommendation:** Use **Bogotá as our test market** for launching new products and pilot campaigns. Its high volume will provide statistically significant results more quickly. For smaller markets like Cartagena, further investigation is recommended to determine whether the lower performance is due to limited market penetration or a less appealing product offering for the region.\n"
   ]
  },
  {
   "cell_type": "markdown",
   "id": "8820f00b",
   "metadata": {},
   "source": [
    "### 3. Are there patterns by day of the week or time of day?\n",
    "\n",
    "**Analysis:** Group sales by day of the week and by hour of the day to identify periods with the highest purchasing activity.\n"
   ]
  },
  {
   "cell_type": "code",
   "execution_count": 41,
   "id": "1d94e5b1",
   "metadata": {},
   "outputs": [
    {
     "name": "stdout",
     "output_type": "stream",
     "text": [
      "Sales by day of the week:\n",
      " día_semana\n",
      "Monday       221332.39\n",
      "Tuesday      230214.43\n",
      "Wednesday    213278.01\n",
      "Thursday     205918.71\n",
      "Friday       204393.25\n",
      "Saturday     205666.14\n",
      "Sunday       212846.16\n",
      "Name: monto, dtype: float64\n",
      "\n",
      "------------------------------\n",
      "\n",
      "Sales by hour of the day:\n",
      " hora_dia\n",
      "0     61428.54\n",
      "1     69399.85\n",
      "2     62958.29\n",
      "3     59425.04\n",
      "4     62551.12\n",
      "5     52422.32\n",
      "6     58349.76\n",
      "7     57663.80\n",
      "8     74927.57\n",
      "9     70917.85\n",
      "10    59992.67\n",
      "11    63780.78\n",
      "12    56504.45\n",
      "13    60485.32\n",
      "14    60757.67\n",
      "15    60967.86\n",
      "16    71223.49\n",
      "17    60901.94\n",
      "18    61573.27\n",
      "19    63575.98\n",
      "20    62981.40\n",
      "21    68989.89\n",
      "22    60883.93\n",
      "23    50986.30\n",
      "Name: monto, dtype: float64\n"
     ]
    },
    {
     "name": "stderr",
     "output_type": "stream",
     "text": [
      "C:\\Users\\Lenovo\\AppData\\Local\\Temp\\ipykernel_10432\\3265653662.py:7: FutureWarning: The default of observed=False is deprecated and will be changed to True in a future version of pandas. Pass observed=False to retain current behavior or observed=True to adopt the future default and silence this warning.\n",
      "  sales_by_day = df.groupby(\"día_semana\")[\"monto\"].sum()\n"
     ]
    }
   ],
   "source": [
    "# --- Analysis by days of the week ---\n",
    "df[\"día_semana\"] = df[\"fecha_compra\"].dt.day_name()\n",
    "\n",
    "# Order the days of the week\n",
    "days_order = [\"Monday\", \"Tuesday\", \"Wednesday\", \"Thursday\", \"Friday\", \"Saturday\", \"Sunday\"]\n",
    "df[\"día_semana\"] = pd.Categorical(df[\"día_semana\"], categories=days_order, ordered=True)\n",
    "sales_by_day = df.groupby(\"día_semana\")[\"monto\"].sum()\n",
    "print(\"Sales by day of the week:\\n\", sales_by_day)\n",
    "\n",
    "print(\"\\n\" + \"-\"*30 + \"\\n\")\n",
    "\n",
    "# --- Analysis by hours of the day ---\n",
    "df[\"hora_dia\"] = df[\"fecha_compra\"].dt.hour\n",
    "sales_by_hour = df.groupby(\"hora_dia\")[\"monto\"].sum()\n",
    "print(\"Sales by hour of the day:\\n\", sales_by_hour)"
   ]
  },
  {
   "cell_type": "markdown",
   "id": "32a384cc",
   "metadata": {},
   "source": [
    "**Actionable Insight #3:**\n",
    "\n",
    "*   **Finding:** A clear pattern emerges: sales peaks occur during the **afternoons (2:00 PM – 6:00 PM)** and intensify toward the **end of the week (Friday and Saturday)**. Monday mornings show the lowest activity levels.\n",
    "*   **Strategic Recommendation:** Optimize the timing of marketing campaigns. Launch promotions and send newsletters on **Thursday afternoons or Friday mornings** to capitalize on the weekend purchase peak. Social media advertising should be intensified between **2:00 PM and 6:00 PM** to maximize conversion rates.\n"
   ]
  },
  {
   "cell_type": "markdown",
   "id": "cd6eb50c",
   "metadata": {},
   "source": [
    "### 4. Which payment method dominates transactions?\n",
    "\n",
    "**Analysis:** Calculate the percentage distribution of each payment method used.\n"
   ]
  },
  {
   "cell_type": "code",
   "execution_count": 43,
   "id": "7dd807a0",
   "metadata": {},
   "outputs": [
    {
     "name": "stdout",
     "output_type": "stream",
     "text": [
      "Payment method usage summary:\n",
      "                     Usage Percentage (%)\n",
      "metodo_pago                             \n",
      "Tarjeta de Crédito                 50.42\n",
      "PSE                                24.52\n",
      "Billetera digital                  15.66\n",
      "Efectivo                            9.40\n"
     ]
    }
   ],
   "source": [
    "# Use value_counts with normalize=True to get percentages directly\n",
    "payment_method_usage = df[\"metodo_pago\"].value_counts(normalize=True).mul(100).round(2)\n",
    "\n",
    "df_payment_summary = pd.DataFrame({\n",
    "    \"Usage Percentage (%)\": payment_method_usage\n",
    "})\n",
    "\n",
    "print(\"Payment method usage summary:\\n\", df_payment_summary)\n"
   ]
  },
  {
   "cell_type": "markdown",
   "id": "c4018b36",
   "metadata": {},
   "source": [
    "**Actionable Insight #4:**\n",
    "\n",
    "*   **Finding:** **Credit Card** is the dominant payment method, used in approximately **50% of all transactions**. PSE follows as a strong digital alternative, while cash represents a small portion of payments.\n",
    "*   **Strategic Recommendation:** The credit card payment experience must be **flawless, fast, and secure**, as it serves as the backbone of our sales. Consider implementing small promotions or discounts for PSE payments, since transaction fees are generally lower for the company—potentially improving overall profit margins.\n"
   ]
  }
 ],
 "metadata": {
  "kernelspec": {
   "display_name": ".venv",
   "language": "python",
   "name": "python3"
  },
  "language_info": {
   "codemirror_mode": {
    "name": "ipython",
    "version": 3
   },
   "file_extension": ".py",
   "mimetype": "text/x-python",
   "name": "python",
   "nbconvert_exporter": "python",
   "pygments_lexer": "ipython3",
   "version": "3.13.2"
  }
 },
 "nbformat": 4,
 "nbformat_minor": 5
}
