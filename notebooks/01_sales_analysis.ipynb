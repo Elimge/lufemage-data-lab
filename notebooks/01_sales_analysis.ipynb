{
 "cells": [
  {
   "cell_type": "markdown",
   "id": "0fdda59b",
   "metadata": {},
   "source": [
    "# Exploratory Data Analysis (EDA) - Lufemage Data Lab\n",
    "\n",
    "**Objective:** Perform an initial exploration of the sales dataset to understand its structure, identify preliminary patterns, and detect potential data quality issues.\n",
    "\n",
    "**Steps:**\n",
    "1. Data loading.\n",
    "2. General review (structure, data types).\n",
    "3. Basic cleaning and preprocessing.\n",
    "4. Descriptive statistical analysis.\n",
    "5. Initial grouping and segmentation.\n"
   ]
  },
  {
   "cell_type": "code",
   "execution_count": 25,
   "id": "a4af94ed",
   "metadata": {},
   "outputs": [
    {
     "name": "stdout",
     "output_type": "stream",
     "text": [
      "Dataframe has been uploaded successfully.\n"
     ]
    }
   ],
   "source": [
    "# Import esentials libraries\n",
    "import pandas as pd\n",
    "import numpy as np\n",
    "\n",
    "# Define the path to the data file\n",
    "DATA_PATH = \"../data/raw_sales_data.csv\"\n",
    "\n",
    "# Upload the dataset\n",
    "df = pd.read_csv(DATA_PATH)\n",
    "\n",
    "# Check if the dataframe is not empty\n",
    "if not bool(df.empty):\n",
    "    print(\"Dataframe has been uploaded successfully.\")\n",
    "else:\n",
    "    print(\"Failed to upload the dataframe.\")\n"
   ]
  },
  {
   "cell_type": "markdown",
   "id": "f544f232",
   "metadata": {},
   "source": [
    "## 1. General Dataset Review\n",
    "\n",
    "We will use the `.info()`, `.shape`, and `.describe()` commands to obtain a comprehensive overview of our data.  \n",
    "These functions provide key insights into the dataset’s structure, including column types, the number of records\n"
   ]
  },
  {
   "cell_type": "code",
   "execution_count": 26,
   "id": "8f7a85b3",
   "metadata": {},
   "outputs": [
    {
     "name": "stdout",
     "output_type": "stream",
     "text": [
      "The dataset has 5000 rows and 6 columns.\n",
      "\n",
      "DataFrame information:\n",
      "<class 'pandas.core.frame.DataFrame'>\n",
      "RangeIndex: 5000 entries, 0 to 4999\n",
      "Data columns (total 6 columns):\n",
      " #   Column              Non-Null Count  Dtype  \n",
      "---  ------              --------------  -----  \n",
      " 0   id_cliente          5000 non-null   object \n",
      " 1   fecha_compra        5000 non-null   object \n",
      " 2   monto               5000 non-null   float64\n",
      " 3   categoria_producto  5000 non-null   object \n",
      " 4   ciudad              5000 non-null   object \n",
      " 5   metodo_pago         5000 non-null   object \n",
      "dtypes: float64(1), object(5)\n",
      "memory usage: 234.5+ KB\n"
     ]
    }
   ],
   "source": [
    "# View the shape of the DataFrame (rows, columns)\n",
    "print(f\"The dataset has {df.shape[0]} rows and {df.shape[1]} columns.\")\n",
    "\n",
    "# Get information about data types and null values\n",
    "print(\"\\nDataFrame information:\")\n",
    "df.info()"
   ]
  },
  {
   "cell_type": "markdown",
   "id": "a596aca7",
   "metadata": {},
   "source": [
    "## 2. Data Cleaning and Preprocessing\n",
    "\n",
    "Based on the initial review, the first step in this stage is to correct the data type of the `fecha_compra` column.  \n",
    "Additionally, the dataset will be checked for duplicate or missing values to ensure data consistency and integrity.\n"
   ]
  },
  {
   "cell_type": "code",
   "execution_count": 27,
   "id": "d6dd23b6",
   "metadata": {},
   "outputs": [
    {
     "name": "stdout",
     "output_type": "stream",
     "text": [
      "\n",
      "Null values in each column:\n",
      "id_cliente            0\n",
      "fecha_compra          0\n",
      "monto                 0\n",
      "categoria_producto    0\n",
      "ciudad                0\n",
      "metodo_pago           0\n",
      "dtype: int64\n",
      "\n",
      "Number of duplicate rows: 0\n",
      "\n",
      "Dataframe info after initial checks: \n",
      "<class 'pandas.core.frame.DataFrame'>\n",
      "RangeIndex: 5000 entries, 0 to 4999\n",
      "Data columns (total 6 columns):\n",
      " #   Column              Non-Null Count  Dtype         \n",
      "---  ------              --------------  -----         \n",
      " 0   id_cliente          5000 non-null   object        \n",
      " 1   fecha_compra        5000 non-null   datetime64[ns]\n",
      " 2   monto               5000 non-null   float64       \n",
      " 3   categoria_producto  5000 non-null   object        \n",
      " 4   ciudad              5000 non-null   object        \n",
      " 5   metodo_pago         5000 non-null   object        \n",
      "dtypes: datetime64[ns](1), float64(1), object(4)\n",
      "memory usage: 234.5+ KB\n"
     ]
    }
   ],
   "source": [
    "# Convert 'fecha_compra' column to datetime format\n",
    "df[\"fecha_compra\"] = pd.to_datetime(df[\"fecha_compra\"])\n",
    "\n",
    "# Check for null values in each column\n",
    "print(f\"\\nNull values in each column:\\n{df.isnull().sum()}\")\n",
    "\n",
    "# Check for duplicate rows\n",
    "print(f\"\\nNumber of duplicate rows: {df.duplicated().sum()}\")\n",
    "\n",
    "# Back to initial info after checks\n",
    "print(\"\\nDataframe info after initial checks: \")\n",
    "df.info()"
   ]
  },
  {
   "cell_type": "markdown",
   "id": "4f667787",
   "metadata": {},
   "source": [
    "## 3. Statistical Analysis with NumPy and Pandas\n",
    "\n",
    "With the dataset cleaned and properly formatted, basic statistical measures will be calculated for the `monto` column.  \n",
    "This step provides an overview of the distribution and variability of sales amounts within the dataset.\n"
   ]
  },
  {
   "cell_type": "code",
   "execution_count": 28,
   "id": "1b44a080",
   "metadata": {},
   "outputs": [
    {
     "name": "stdout",
     "output_type": "stream",
     "text": [
      "Descriptive statistics with pandas: \n",
      "count    5000.000000\n",
      "mean      298.729818\n",
      "std       209.944712\n",
      "min         2.250000\n",
      "25%       145.165000\n",
      "50%       251.610000\n",
      "75%       402.035000\n",
      "max      1581.700000\n",
      "Name: monto, dtype: float64\n",
      "\n",
      "--- Statistics with NumPy ---\n",
      "Average sale: $298.73\n",
      "Median sale: $251.61\n",
      "Standard deviation: $209.92\n",
      "Maximum sale: $1581.70\n",
      "Minimum sale: $2.25\n"
     ]
    }
   ],
   "source": [
    "# Display descriptive statistics for the 'monto' column\n",
    "print(\"Descriptive statistics with pandas: \")\n",
    "print(df[\"monto\"].describe())\n",
    "\n",
    "# Display descriptive statistics using numpy\n",
    "# Extract 'monto' column as a numpy array\n",
    "montos_np = df[\"monto\"].to_numpy()\n",
    "\n",
    "print(\"\\n--- Statistics with NumPy ---\")\n",
    "print(f\"Average sale: ${np.mean(montos_np):.2f}\")\n",
    "print(f\"Median sale: ${np.median(montos_np):.2f}\")\n",
    "print(f\"Standard deviation: ${np.std(montos_np):.2f}\")\n",
    "print(f\"Maximum sale: ${np.max(montos_np):.2f}\")\n",
    "print(f\"Minimum sale: ${np.min(montos_np):.2f}\")\n"
   ]
  },
  {
   "cell_type": "markdown",
   "id": "62864d5a",
   "metadata": {},
   "source": [
    "## 4. Grouping and Segmentation\n",
    "\n",
    "In this section, simple business questions will be addressed by grouping the data:\n",
    "- How much was sold by product category?\n",
    "- How are sales distributed by city?\n",
    "- Which payment method is the most popular?\n"
   ]
  },
  {
   "cell_type": "code",
   "execution_count": 29,
   "id": "03221a04",
   "metadata": {},
   "outputs": [
    {
     "name": "stdout",
     "output_type": "stream",
     "text": [
      "\n",
      "Total sales by product category:\n",
      " categoria_producto\n",
      "Electrónica    359907.01\n",
      "Ropa           303603.92\n",
      "Hogar          300757.72\n",
      "Alimentos      210285.62\n",
      "Libros         165509.24\n",
      "Juguetes       153585.58\n",
      "Name: monto, dtype: float64\n",
      "\n",
      "------------------------------\n",
      "\n",
      "Transactions and average amount by city:\n",
      "               count        mean        sum\n",
      "ciudad                                    \n",
      "Bogotá         2021  306.571024  619580.04\n",
      "Medellín       1218  298.256798  363276.78\n",
      "Cali            765  294.070078  224963.61\n",
      "Cartagena       520  286.887019  149181.25\n",
      "Barranquilla    476  287.074391  136647.41\n",
      "\n",
      "------------------------------\n",
      "\n",
      "Payment method usage:\n",
      " metodo_pago\n",
      "Tarjeta de Crédito    2521\n",
      "PSE                   1226\n",
      "Billetera digital      783\n",
      "Efectivo               470\n",
      "Name: count, dtype: int64\n"
     ]
    }
   ],
   "source": [
    "# Analyze total sales by product category\n",
    "sales_by_category = df.groupby(\"categoria_producto\")[\"monto\"].sum().sort_values(ascending=False)\n",
    "print(\"\\nTotal sales by product category:\\n\", sales_by_category)\n",
    "\n",
    "print(\"\\n\" + \"-\"*30 + \"\\n\")\n",
    "\n",
    "# Numbers of transactions and average amount by city\n",
    "transactions_by_city = df.groupby(\"ciudad\")[\"monto\"].agg([\"count\", \"mean\", \"sum\"]).sort_values(by=\"sum\", ascending=False)\n",
    "print(\"Transactions and average amount by city:\\n\", transactions_by_city)\n",
    "\n",
    "print(\"\\n\" + \"-\"*30 + \"\\n\")\n",
    "\n",
    "# Use of payment methods\n",
    "payment_method_usage = df[\"metodo_pago\"].value_counts()\n",
    "print(\"Payment method usage:\\n\", payment_method_usage)"
   ]
  },
  {
   "cell_type": "markdown",
   "id": "282c3783",
   "metadata": {},
   "source": [
    "## 5. Outlier Detection in 'monto'\n",
    "\n",
    "An outlier is a sale that is unusually high or low compared to the rest of the data.  \n",
    "The Interquartile Range (IQR) method will be used to identify these anomalous values.\n"
   ]
  },
  {
   "cell_type": "code",
   "execution_count": 30,
   "id": "9c75a26a",
   "metadata": {},
   "outputs": [
    {
     "name": "stdout",
     "output_type": "stream",
     "text": [
      "158 outlier sales were detected (very high amounts).\n",
      "Examples of outliers:\n"
     ]
    },
    {
     "data": {
      "text/html": [
       "<div>\n",
       "<style scoped>\n",
       "    .dataframe tbody tr th:only-of-type {\n",
       "        vertical-align: middle;\n",
       "    }\n",
       "\n",
       "    .dataframe tbody tr th {\n",
       "        vertical-align: top;\n",
       "    }\n",
       "\n",
       "    .dataframe thead th {\n",
       "        text-align: right;\n",
       "    }\n",
       "</style>\n",
       "<table border=\"1\" class=\"dataframe\">\n",
       "  <thead>\n",
       "    <tr style=\"text-align: right;\">\n",
       "      <th></th>\n",
       "      <th>id_cliente</th>\n",
       "      <th>fecha_compra</th>\n",
       "      <th>monto</th>\n",
       "      <th>categoria_producto</th>\n",
       "      <th>ciudad</th>\n",
       "      <th>metodo_pago</th>\n",
       "    </tr>\n",
       "  </thead>\n",
       "  <tbody>\n",
       "    <tr>\n",
       "      <th>82</th>\n",
       "      <td>66e4cfa4-597c-400b-92fb-6a91ba068c87</td>\n",
       "      <td>2023-12-24 16:14:49</td>\n",
       "      <td>976.68</td>\n",
       "      <td>Juguetes</td>\n",
       "      <td>Bogotá</td>\n",
       "      <td>Tarjeta de Crédito</td>\n",
       "    </tr>\n",
       "    <tr>\n",
       "      <th>198</th>\n",
       "      <td>16ea0e70-f038-4795-80a3-b8bda21e9004</td>\n",
       "      <td>2024-11-27 03:23:55</td>\n",
       "      <td>1062.73</td>\n",
       "      <td>Juguetes</td>\n",
       "      <td>Bogotá</td>\n",
       "      <td>Tarjeta de Crédito</td>\n",
       "    </tr>\n",
       "    <tr>\n",
       "      <th>208</th>\n",
       "      <td>3e76fabb-a263-4743-a7ae-4a7cf97bc1f1</td>\n",
       "      <td>2024-03-25 23:02:58</td>\n",
       "      <td>919.05</td>\n",
       "      <td>Ropa</td>\n",
       "      <td>Medellín</td>\n",
       "      <td>Tarjeta de Crédito</td>\n",
       "    </tr>\n",
       "    <tr>\n",
       "      <th>284</th>\n",
       "      <td>cb7f83fd-0e00-4ba4-9d8a-9f2ec1e7d8fe</td>\n",
       "      <td>2024-08-10 09:45:15</td>\n",
       "      <td>1451.33</td>\n",
       "      <td>Juguetes</td>\n",
       "      <td>Bogotá</td>\n",
       "      <td>Tarjeta de Crédito</td>\n",
       "    </tr>\n",
       "    <tr>\n",
       "      <th>310</th>\n",
       "      <td>f721f396-4b2c-4662-9978-6411b222c2df</td>\n",
       "      <td>2024-06-30 20:00:59</td>\n",
       "      <td>820.46</td>\n",
       "      <td>Ropa</td>\n",
       "      <td>Cartagena</td>\n",
       "      <td>Tarjeta de Crédito</td>\n",
       "    </tr>\n",
       "  </tbody>\n",
       "</table>\n",
       "</div>"
      ],
      "text/plain": [
       "                               id_cliente        fecha_compra    monto  \\\n",
       "82   66e4cfa4-597c-400b-92fb-6a91ba068c87 2023-12-24 16:14:49   976.68   \n",
       "198  16ea0e70-f038-4795-80a3-b8bda21e9004 2024-11-27 03:23:55  1062.73   \n",
       "208  3e76fabb-a263-4743-a7ae-4a7cf97bc1f1 2024-03-25 23:02:58   919.05   \n",
       "284  cb7f83fd-0e00-4ba4-9d8a-9f2ec1e7d8fe 2024-08-10 09:45:15  1451.33   \n",
       "310  f721f396-4b2c-4662-9978-6411b222c2df 2024-06-30 20:00:59   820.46   \n",
       "\n",
       "    categoria_producto     ciudad         metodo_pago  \n",
       "82            Juguetes     Bogotá  Tarjeta de Crédito  \n",
       "198           Juguetes     Bogotá  Tarjeta de Crédito  \n",
       "208               Ropa   Medellín  Tarjeta de Crédito  \n",
       "284           Juguetes     Bogotá  Tarjeta de Crédito  \n",
       "310               Ropa  Cartagena  Tarjeta de Crédito  "
      ]
     },
     "execution_count": 30,
     "metadata": {},
     "output_type": "execute_result"
    }
   ],
   "source": [
    "Q1 = df[\"monto\"].quantile(0.25)\n",
    "Q3 = df[\"monto\"].quantile(0.75)\n",
    "IQR = Q3 - Q1\n",
    "\n",
    "superior_limit = Q3 + 1.5 * IQR\n",
    "inferior_limit = Q1 - 1.5 * IQR\n",
    "\n",
    "# Filter the DataFrame to show only outliers\n",
    "outliers = df[(df[\"monto\"] > superior_limit) | (df[\"monto\"] < inferior_limit)]\n",
    "\n",
    "print(f\"{len(outliers)} outlier sales were detected (very high amounts).\")\n",
    "print(\"Examples of outliers:\")\n",
    "outliers.head()"
   ]
  },
  {
   "cell_type": "markdown",
   "id": "d271049b",
   "metadata": {},
   "source": [
    "## 6. Identification of Customers and Days with the Highest Purchase Volume\n"
   ]
  },
  {
   "cell_type": "code",
   "execution_count": null,
   "id": "50775279",
   "metadata": {},
   "outputs": [
    {
     "name": "stdout",
     "output_type": "stream",
     "text": [
      "Top 5 customers by total purchase amount:\n",
      " id_cliente\n",
      "181a76f3-82dc-4ea2-800b-75901817259b    4746.36\n",
      "5ee69e4f-8a1c-4aff-bc5a-d399b6e36665    4132.85\n",
      "8422dfda-6fce-4db1-82f1-d946ba8b7adb    4002.10\n",
      "f8831983-5198-46f0-bee7-9bccca0e9b20    3971.86\n",
      "8b3e86c4-12b8-48ee-8d2f-fb3fa65dd89f    3934.73\n",
      "Name: monto, dtype: float64\n",
      "\n",
      "------------------------------\n",
      "\n",
      "Top 5 days by total sales:\n",
      " date\n",
      "2024-04-16    6186.41\n",
      "2025-01-12    5811.80\n",
      "2025-03-04    5026.86\n",
      "2025-08-30    4960.96\n",
      "2025-05-06    4919.58\n",
      "Name: monto, dtype: float64\n"
     ]
    }
   ],
   "source": [
    "# Top 5 customers by total purchase amount\n",
    "top_clients = df.groupby(\"id_cliente\")[\"monto\"].sum().nlargest(5)\n",
    "print(\"Top 5 customers by total purchase amount:\\n\", top_clients)\n",
    "\n",
    "print(\"\\n\" + \"-\"*30 + \"\\n\")\n",
    "\n",
    "# Top 5 days by total sales amount\n",
    "# Create a temporary column with only the date (without time)\n",
    "df[\"fecha\"] = df[\"fecha_compra\"].dt.date\n",
    "top_days = df.groupby(\"fecha\")[\"monto\"].sum().nlargest(5)\n",
    "print(\"Top 5 days by total sales:\\n\", top_days)\n",
    "\n",
    "# Remove the temporary column no longer needed\n",
    "df = df.drop(columns=[\"fecha\"])\n"
   ]
  }
 ],
 "metadata": {
  "kernelspec": {
   "display_name": ".venv",
   "language": "python",
   "name": "python3"
  },
  "language_info": {
   "codemirror_mode": {
    "name": "ipython",
    "version": 3
   },
   "file_extension": ".py",
   "mimetype": "text/x-python",
   "name": "python",
   "nbconvert_exporter": "python",
   "pygments_lexer": "ipython3",
   "version": "3.13.2"
  }
 },
 "nbformat": 4,
 "nbformat_minor": 5
}
